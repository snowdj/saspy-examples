{
 "cells": [
  {
   "cell_type": "markdown",
   "metadata": {},
   "source": [
    "# autocfg.py\n",
    "\n",
    "## This example notebook shows how to use the autocfg.py file in saspy to automatically generate a working saspy config file for connecting to a local SAS install on a Windows system.\n",
    "## autocfg.py can be run as a batch script, or from within python.\n",
    "\n",
    "## Even if this works for you, this is no excuse for not reading the install/config doc :)\n",
    "## https://sassoftware.github.io/saspy/install.html\n",
    "\n",
    "### There are three optional parameters you can provide. \n",
    "* cfgfile - this is the path to the config file that will be created. By default it will be sascfg_personal.py in the saspy install directory\n",
    "* SASHome - this is the path to your SASHome directory; the SAS installation directory. It defaults to C:\\Program Files\\SASHome which is the SAS default install path\n",
    "* Java - this is the path to your java.exe on your system. It defaults to java which is usually found in your path when you install java on Windwos\n",
    "\n",
    "## These parameters can be specified positionally or by keyword interactivly. For batch, they are positional only, but you can specify None to not specify some. See the examples for that below.\n",
    "\n"
   ]
  },
  {
   "cell_type": "markdown",
   "metadata": {},
   "source": [
    "### Here is the signature for the function. The interactive use case follows"
   ]
  },
  {
   "cell_type": "code",
   "execution_count": 1,
   "metadata": {
    "collapsed": true
   },
   "outputs": [],
   "source": [
    "#def main(cfgfile: str = None, SASHome: str = None, java: str = None):"
   ]
  },
  {
   "cell_type": "markdown",
   "metadata": {
    "collapsed": false
   },
   "source": [
    "## You can create a Windows local sascfg_personal.py file using autocfg.py from within Python\n",
    "## Here is the simplest case, for a freshly installed saspy. It will create a config file that works imediatly; assuming I have SAS and Java installed in default locations"
   ]
  },
  {
   "cell_type": "code",
   "execution_count": 2,
   "metadata": {
    "collapsed": false
   },
   "outputs": [
    {
     "name": "stdout",
     "output_type": "stream",
     "text": [
      "Generated configurations file: C:\\ProgramData\\Anaconda3\\lib\\site-packages\\saspy\\sascfg_personal.py\n",
      "\n"
     ]
    }
   ],
   "source": [
    "from saspy import autocfg\n",
    "autocfg.main()"
   ]
  },
  {
   "cell_type": "code",
   "execution_count": 3,
   "metadata": {
    "collapsed": false
   },
   "outputs": [
    {
     "name": "stdout",
     "output_type": "stream",
     "text": [
      "Using SAS Config named: autogen_winlocal\n",
      "SAS Connection established. Subprocess id is 11220\n",
      "\n"
     ]
    },
    {
     "data": {
      "text/plain": [
       "Access Method         = IOM\n",
       "SAS Config name       = autogen_winlocal\n",
       "WORK Path             = C:\\Users\\sastpw\\AppData\\Local\\Temp\\SAS Temporary Files\\_TD15016_d10a626_\\Prc2\\\n",
       "SAS Version           = 9.04.01M5P09132017\n",
       "SASPy Version         = 2.4.1\n",
       "Teach me SAS          = False\n",
       "Batch                 = False\n",
       "Results               = Pandas\n",
       "SAS Session Encoding  = wlatin1\n",
       "Python Encoding value = windows-1252\n",
       "SAS process Pid value = 15016\n"
      ]
     },
     "execution_count": 3,
     "metadata": {},
     "output_type": "execute_result"
    }
   ],
   "source": [
    "import saspy\n",
    "sas = saspy.SASsession()\n",
    "sas"
   ]
  },
  {
   "cell_type": "code",
   "execution_count": 4,
   "metadata": {
    "collapsed": false
   },
   "outputs": [
    {
     "name": "stdout",
     "output_type": "stream",
     "text": [
      "SAS_config_names=[\"autogen_winlocal\"]\n",
      "\n",
      "SAS_config_options = {\n",
      "\t\"lock_down\": False,\n",
      "\t\"verbose\"  : True\n",
      "\t}\n",
      "\n",
      "cpW  =  \"C:\\\\Program Files\\\\SASHome\\\\SASDeploymentManager\\\\9.4\\\\products\\\\deploywiz__94508__prt__xx__sp0__1\\\\deploywiz\\\\sas.security.sspi.jar\"\n",
      "cpW += \";C:\\\\Program Files\\\\SASHome\\\\SASDeploymentManager\\\\9.4\\\\products\\\\deploywiz__94508__prt__xx__sp0__1\\\\deploywiz\\\\sas.svc.connection.jar\"\n",
      "cpW += \";C:\\\\Program Files\\\\SASHome\\\\SASDeploymentManager\\\\9.4\\\\products\\\\deploywiz__94508__prt__xx__sp0__1\\\\deploywiz\\\\log4j.jar\"\n",
      "cpW += \";C:\\\\Program Files\\\\SASHome\\\\SASDeploymentManager\\\\9.4\\\\products\\\\deploywiz__94508__prt__xx__sp0__1\\\\deploywiz\\\\sas.core.jar\"\n",
      "cpW += \";C:\\\\ProgramData\\\\Anaconda3\\\\lib\\\\site-packages\\\\saspy\\\\java\\\\saspyiom.jar\"\n",
      "\n",
      "autogen_winlocal = {\n",
      "\t\"java\"      : \"java\",\n",
      "\t\"encoding\"  : \"windows-1252\",\n",
      "\t\"classpath\" : cpW\n",
      "\t}\n",
      "\n",
      "import os\n",
      "os.environ[\"PATH\"] += \";C:\\\\Program Files\\\\SASHome\\\\SASFoundation\\\\9.4\\\\core\\\\sasext\"\n"
     ]
    }
   ],
   "source": [
    "fd = open('C:\\ProgramData\\Anaconda3\\lib\\site-packages\\saspy\\sascfg_personal.py')\n",
    "print(fd.read())\n",
    "fd.close()"
   ]
  },
  {
   "cell_type": "markdown",
   "metadata": {
    "collapsed": false
   },
   "source": [
    "## You can create a different sascfg file that you can refer to in SASsession()\n",
    "## Also, lets specify Java ourselves to see that it is used in the config file"
   ]
  },
  {
   "cell_type": "code",
   "execution_count": 5,
   "metadata": {
    "collapsed": false
   },
   "outputs": [
    {
     "name": "stdout",
     "output_type": "stream",
     "text": [
      "Generated configurations file: my_cfg.py\n"
     ]
    }
   ],
   "source": [
    "from saspy import autocfg\n",
    "autocfg.main('my_cfg.py', java=r'C:\\ProgramData\\Oracle\\Java\\javapath\\java.exe')"
   ]
  },
  {
   "cell_type": "code",
   "execution_count": 6,
   "metadata": {
    "collapsed": false
   },
   "outputs": [
    {
     "name": "stdout",
     "output_type": "stream",
     "text": [
      "Using SAS Config named: autogen_winlocal\n",
      "SAS Connection established. Subprocess id is 8248\n",
      "\n"
     ]
    },
    {
     "data": {
      "text/plain": [
       "Access Method         = IOM\n",
       "SAS Config name       = autogen_winlocal\n",
       "WORK Path             = C:\\Users\\sastpw\\AppData\\Local\\Temp\\SAS Temporary Files\\_TD4452_d10a626_\\Prc2\\\n",
       "SAS Version           = 9.04.01M5P09132017\n",
       "SASPy Version         = 2.4.1\n",
       "Teach me SAS          = False\n",
       "Batch                 = False\n",
       "Results               = Pandas\n",
       "SAS Session Encoding  = wlatin1\n",
       "Python Encoding value = windows-1252\n",
       "SAS process Pid value = 4452\n"
      ]
     },
     "execution_count": 6,
     "metadata": {},
     "output_type": "execute_result"
    }
   ],
   "source": [
    "import saspy\n",
    "sas = saspy.SASsession(cfgfile='my_cfg.py')\n",
    "sas"
   ]
  },
  {
   "cell_type": "code",
   "execution_count": 7,
   "metadata": {
    "collapsed": false
   },
   "outputs": [
    {
     "name": "stdout",
     "output_type": "stream",
     "text": [
      "SAS_config_names=[\"autogen_winlocal\"]\n",
      "\n",
      "SAS_config_options = {\n",
      "\t\"lock_down\": False,\n",
      "\t\"verbose\"  : True\n",
      "\t}\n",
      "\n",
      "cpW  =  \"C:\\\\Program Files\\\\SASHome\\\\SASDeploymentManager\\\\9.4\\\\products\\\\deploywiz__94508__prt__xx__sp0__1\\\\deploywiz\\\\sas.svc.connection.jar\"\n",
      "cpW += \";C:\\\\Program Files\\\\SASHome\\\\SASDeploymentManager\\\\9.4\\\\products\\\\deploywiz__94508__prt__xx__sp0__1\\\\deploywiz\\\\sas.security.sspi.jar\"\n",
      "cpW += \";C:\\\\Program Files\\\\SASHome\\\\SASDeploymentManager\\\\9.4\\\\products\\\\deploywiz__94508__prt__xx__sp0__1\\\\deploywiz\\\\sas.core.jar\"\n",
      "cpW += \";C:\\\\Program Files\\\\SASHome\\\\SASDeploymentManager\\\\9.4\\\\products\\\\deploywiz__94508__prt__xx__sp0__1\\\\deploywiz\\\\log4j.jar\"\n",
      "cpW += \";C:\\\\ProgramData\\\\Anaconda3\\\\lib\\\\site-packages\\\\saspy\\\\java\\\\saspyiom.jar\"\n",
      "\n",
      "autogen_winlocal = {\n",
      "\t\"java\"      : \"C:\\\\ProgramData\\\\Oracle\\\\Java\\\\javapath\\\\java.exe\",\n",
      "\t\"encoding\"  : \"windows-1252\",\n",
      "\t\"classpath\" : cpW\n",
      "\t}\n",
      "\n",
      "import os\n",
      "os.environ[\"PATH\"] += \";C:\\\\Program Files\\\\SASHome\\\\SASFoundation\\\\9.4\\\\core\\\\sasext\"\n"
     ]
    }
   ],
   "source": [
    "fd = open('my_cfg.py')\n",
    "print(fd.read())\n",
    "fd.close()"
   ]
  },
  {
   "cell_type": "markdown",
   "metadata": {},
   "source": [
    "## Now lets see how to run this as a Batch script\n",
    "\n",
    "### First, run the default, right after a fresh install of saspy "
   ]
  },
  {
   "cell_type": "markdown",
   "metadata": {},
   "source": [
    "```\n",
    "C:\\tom1>python \\ProgramData\\Anaconda3\\Lib\\site-packages\\saspy\\autocfg.py\n",
    "Generated configurations file: C:\\ProgramData\\Anaconda3\\lib\\site-packages\\saspy\\sascfg_personal.py\n",
    "\n",
    "\n",
    "C:\\tom1>type C:\\ProgramData\\Anaconda3\\lib\\site-packages\\saspy\\sascfg_personal.py\n",
    "SAS_config_names=[\"autogen_winlocal\"]\n",
    "\n",
    "SAS_config_options = {\n",
    "        \"lock_down\": False,\n",
    "        \"verbose\"  : True\n",
    "        }\n",
    "\n",
    "cpW  =  \"C:\\\\Program Files\\\\SASHome\\\\SASDeploymentManager\\\\9.4\\\\products\\\\deploywiz__94508__prt__xx__sp0__1\\\\deploywiz\\\\log4j.jar\"\n",
    "cpW += \";C:\\\\Program Files\\\\SASHome\\\\SASDeploymentManager\\\\9.4\\\\products\\\\deploywiz__94508__prt__xx__sp0__1\\\\deploywiz\\\\sas.core.jar\"\n",
    "cpW += \";C:\\\\Program Files\\\\SASHome\\\\SASDeploymentManager\\\\9.4\\\\products\\\\deploywiz__94508__prt__xx__sp0__1\\\\deploywiz\\\\sas.svc.connection.jar\"\n",
    "cpW += \";C:\\\\Program Files\\\\SASHome\\\\SASDeploymentManager\\\\9.4\\\\products\\\\deploywiz__94508__prt__xx__sp0__1\\\\deploywiz\\\\sas.security.sspi.jar\"\n",
    "cpW += \";C:\\\\ProgramData\\\\Anaconda3\\\\lib\\\\site-packages\\\\saspy\\\\java\\\\saspyiom.jar\"\n",
    "\n",
    "autogen_winlocal = {\n",
    "        \"java\"      : \"java\",\n",
    "        \"encoding\"  : \"windows-1252\",\n",
    "        \"classpath\" : cpW\n",
    "        }\n",
    "\n",
    "import os\n",
    "os.environ[\"PATH\"] += \";C:\\\\Program Files\\\\SASHome\\\\SASFoundation\\\\9.4\\\\core\\\\sasext\"\n",
    "\n",
    "C:\\tom1>python\n",
    "Python 3.6.0 |Anaconda 4.3.0 (64-bit)| (default, Dec 23 2016, 11:57:41) [MSC v.1900 64 bit (AMD64)] on win32\n",
    "Type \"help\", \"copyright\", \"credits\" or \"license\" for more information.\n",
    ">>> import saspy\n",
    ">>> sas = saspy.SASsession()\n",
    "Using SAS Config named: autogen_winlocal\n",
    "SAS Connection established. Subprocess id is 27532\n",
    "\n",
    ">>> sas\n",
    "Access Method         = IOM\n",
    "SAS Config name       = autogen_winlocal\n",
    "WORK Path             = C:\\Users\\sastpw\\AppData\\Local\\Temp\\SAS Temporary Files\\_TD27852_d10a626_\\Prc2\\\n",
    "SAS Version           = 9.04.01M5P09132017\n",
    "SASPy Version         = 2.4.0\n",
    "Teach me SAS          = False\n",
    "Batch                 = False\n",
    "Results               = Pandas\n",
    "SAS Session Encoding  = wlatin1\n",
    "Python Encoding value = windows-1252\n",
    "SAS process Pid value = 27852\n",
    "\n",
    ">>>\n",
    "```"
   ]
  },
  {
   "cell_type": "markdown",
   "metadata": {},
   "source": [
    "### Now lets create a different sascfg file that you can refer to in SASsession()\n",
    "### And, lets specify Java ourselves to see that it is used in the config file\n",
    "* Note that Java is the 3rd positional parm. To skip SASHome, just specify None\n",
    "* also, use double quotes to enclose paths, especially when they have spaces in them like \"C:\\Program Files\\SASHome\""
   ]
  },
  {
   "cell_type": "markdown",
   "metadata": {
    "collapsed": true
   },
   "source": [
    "<pre>\n",
    "C:\\tom1>python \\ProgramData\\Anaconda3\\Lib\\site-packages\\saspy\\autocfg.py batch_cfg.py None \"C:\\ProgramData\\Oracle\\Java\\javapath\\java.exe\"\n",
    "Generated configurations file: batch_cfg.py\n",
    "\n",
    "\n",
    "C:\\tom1>type batch_cfg.py\n",
    "SAS_config_names=[\"autogen_winlocal\"]\n",
    "\n",
    "SAS_config_options = {\n",
    "        \"lock_down\": False,\n",
    "        \"verbose\"  : True\n",
    "        }\n",
    "\n",
    "cpW  =  \"C:\\\\Program Files\\\\SASHome\\\\SASDeploymentManager\\\\9.4\\\\products\\\\deploywiz__94508__prt__xx__sp0__1\\\\deploywiz\\\\sas.core.jar\"\n",
    "cpW += \";C:\\\\Program Files\\\\SASHome\\\\SASDeploymentManager\\\\9.4\\\\products\\\\deploywiz__94508__prt__xx__sp0__1\\\\deploywiz\\\\sas.svc.connection.jar\"\n",
    "cpW += \";C:\\\\Program Files\\\\SASHome\\\\SASDeploymentManager\\\\9.4\\\\products\\\\deploywiz__94508__prt__xx__sp0__1\\\\deploywiz\\\\sas.security.sspi.jar\"\n",
    "cpW += \";C:\\\\Program Files\\\\SASHome\\\\SASDeploymentManager\\\\9.4\\\\products\\\\deploywiz__94508__prt__xx__sp0__1\\\\deploywiz\\\\log4j.jar\"\n",
    "cpW += \";C:\\\\ProgramData\\\\Anaconda3\\\\lib\\\\site-packages\\\\saspy\\\\java\\\\saspyiom.jar\"\n",
    "\n",
    "autogen_winlocal = {\n",
    "        \"java\"      : \"C:\\\\ProgramData\\\\Oracle\\\\Java\\\\javapath\\\\java.exe\",\n",
    "        \"encoding\"  : \"windows-1252\",\n",
    "        \"classpath\" : cpW\n",
    "        }\n",
    "\n",
    "import os\n",
    "os.environ[\"PATH\"] += \";C:\\\\Program Files\\\\SASHome\\\\SASFoundation\\\\9.4\\\\core\\\\sasext\"\n",
    "\n",
    "C:\\tom1>python\n",
    "Python 3.6.0 |Anaconda 4.3.0 (64-bit)| (default, Dec 23 2016, 11:57:41) [MSC v.1900 64 bit (AMD64)] on win32\n",
    "Type \"help\", \"copyright\", \"credits\" or \"license\" for more information.\n",
    ">>> import saspy\n",
    ">>> sas = saspy.SASsession(cfgfile='batch_cfg.py')\n",
    "Using SAS Config named: autogen_winlocal\n",
    "SAS Connection established. Subprocess id is 14692\n",
    "\n",
    ">>> sas\n",
    "Access Method         = IOM\n",
    "SAS Config name       = autogen_winlocal\n",
    "WORK Path             = C:\\Users\\sastpw\\AppData\\Local\\Temp\\SAS Temporary Files\\_TD28096_d10a626_\\Prc2\\\n",
    "SAS Version           = 9.04.01M5P09132017\n",
    "SASPy Version         = 2.4.0\n",
    "Teach me SAS          = False\n",
    "Batch                 = False\n",
    "Results               = Pandas\n",
    "SAS Session Encoding  = wlatin1\n",
    "Python Encoding value = windows-1252\n",
    "SAS process Pid value = 28096\n",
    "\n",
    ">>>\n",
    "</pre>"
   ]
  },
  {
   "cell_type": "markdown",
   "metadata": {},
   "source": [
    "### One last case showing all three parameters. "
   ]
  },
  {
   "cell_type": "markdown",
   "metadata": {},
   "source": [
    "<pre>\n",
    "C:\\tom1>python \\ProgramData\\Anaconda3\\Lib\\site-packages\\saspy\\autocfg.py \\ProgramData\\Anaconda3\\Lib\\site-packages\\saspy\\all_parms.py \"C:\\Program Files\\SASHome\" java.exe\n",
    "Generated configurations file: \\ProgramData\\Anaconda3\\Lib\\site-packages\\saspy\\all_parms.py\n",
    "\n",
    "\n",
    "C:\\tom1>type  \\ProgramData\\Anaconda3\\Lib\\site-packages\\saspy\\all_parms.py\n",
    "SAS_config_names=[\"autogen_winlocal\"]\n",
    "\n",
    "SAS_config_options = {\n",
    "        \"lock_down\": False,\n",
    "        \"verbose\"  : True\n",
    "        }\n",
    "\n",
    "cpW  =  \"C:\\\\Program Files\\\\SASHome\\\\SASDeploymentManager\\\\9.4\\\\products\\\\deploywiz__94508__prt__xx__sp0__1\\\\deploywiz\\\\log4j.jar\"\n",
    "cpW += \";C:\\\\Program Files\\\\SASHome\\\\SASDeploymentManager\\\\9.4\\\\products\\\\deploywiz__94508__prt__xx__sp0__1\\\\deploywiz\\\\sas.core.jar\"\n",
    "cpW += \";C:\\\\Program Files\\\\SASHome\\\\SASDeploymentManager\\\\9.4\\\\products\\\\deploywiz__94508__prt__xx__sp0__1\\\\deploywiz\\\\sas.security.sspi.jar\"\n",
    "cpW += \";C:\\\\Program Files\\\\SASHome\\\\SASDeploymentManager\\\\9.4\\\\products\\\\deploywiz__94508__prt__xx__sp0__1\\\\deploywiz\\\\sas.svc.connection.jar\"\n",
    "cpW += \";C:\\\\ProgramData\\\\Anaconda3\\\\lib\\\\site-packages\\\\saspy\\\\java\\\\saspyiom.jar\"\n",
    "\n",
    "autogen_winlocal = {\n",
    "        \"java\"      : \"java.exe\",\n",
    "        \"encoding\"  : \"windows-1252\",\n",
    "        \"classpath\" : cpW\n",
    "        }\n",
    "\n",
    "import os\n",
    "os.environ[\"PATH\"] += \";C:\\\\Program Files\\\\SASHome\\\\SASFoundation\\\\9.4\\\\core\\\\sasext\"\n",
    "\n",
    "C:\\tom1>python\n",
    "Python 3.6.0 |Anaconda 4.3.0 (64-bit)| (default, Dec 23 2016, 11:57:41) [MSC v.1900 64 bit (AMD64)] on win32\n",
    "Type \"help\", \"copyright\", \"credits\" or \"license\" for more information.\n",
    ">>> import saspy\n",
    ">>> sas = saspy.SASsession(cfgfile='c:\\\\ProgramData\\\\Anaconda3\\\\Lib\\\\site-packages\\\\saspy\\\\all_parms.py')\n",
    "Using SAS Config named: autogen_winlocal\n",
    "SAS Connection established. Subprocess id is 19576\n",
    "\n",
    ">>> sas\n",
    "Access Method         = IOM\n",
    "SAS Config name       = autogen_winlocal\n",
    "WORK Path             = C:\\Users\\sastpw\\AppData\\Local\\Temp\\SAS Temporary Files\\_TD28236_d10a626_\\Prc2\\\n",
    "SAS Version           = 9.04.01M5P09132017\n",
    "SASPy Version         = 2.4.0\n",
    "Teach me SAS          = False\n",
    "Batch                 = False\n",
    "Results               = Pandas\n",
    "SAS Session Encoding  = wlatin1\n",
    "Python Encoding value = windows-1252\n",
    "SAS process Pid value = 28236\n",
    "\n",
    ">>>\n",
    "</pre>"
   ]
  },
  {
   "cell_type": "code",
   "execution_count": null,
   "metadata": {
    "collapsed": true
   },
   "outputs": [],
   "source": []
  }
 ],
 "metadata": {
  "kernelspec": {
   "display_name": "Python 3",
   "language": "python",
   "name": "python3"
  },
  "language_info": {
   "codemirror_mode": {
    "name": "ipython",
    "version": 3
   },
   "file_extension": ".py",
   "mimetype": "text/x-python",
   "name": "python",
   "nbconvert_exporter": "python",
   "pygments_lexer": "ipython3",
   "version": "3.6.0"
  }
 },
 "nbformat": 4,
 "nbformat_minor": 2
}
