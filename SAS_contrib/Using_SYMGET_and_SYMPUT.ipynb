{
 "cells": [
  {
   "cell_type": "code",
   "execution_count": 1,
   "metadata": {
    "collapsed": false
   },
   "outputs": [
    {
     "name": "stdout",
     "output_type": "stream",
     "text": [
      "SAS Connection established. Subprocess id is 17688\n",
      "\n"
     ]
    },
    {
     "data": {
      "text/plain": [
       "Access Method         = IOM\n",
       "SAS Config name       = winlocal\n",
       "WORK Path             = C:\\Users\\sastpw\\AppData\\Local\\Temp\\SAS Temporary Files\\_TD21580_d10a626_\\Prc2\\\n",
       "SAS Version           = 9.04.01M5P09132017\n",
       "SASPy Version         = 2.2.9\n",
       "Teach me SAS          = False\n",
       "Batch                 = False\n",
       "Results               = Pandas\n",
       "SAS Session Encoding  = WLATIN1\n",
       "Python Encoding value = cp1252"
      ]
     },
     "execution_count": 1,
     "metadata": {},
     "output_type": "execute_result"
    }
   ],
   "source": [
    "import saspy\n",
    "sas = saspy.SASsession(cfgname='winlocal')\n",
    "sas"
   ]
  },
  {
   "cell_type": "code",
   "execution_count": 2,
   "metadata": {
    "collapsed": true
   },
   "outputs": [],
   "source": [
    "sas.symput('new_var', 52)"
   ]
  },
  {
   "cell_type": "code",
   "execution_count": 3,
   "metadata": {
    "collapsed": false
   },
   "outputs": [
    {
     "data": {
      "text/plain": [
       "52"
      ]
     },
     "execution_count": 3,
     "metadata": {},
     "output_type": "execute_result"
    }
   ],
   "source": [
    "sas.symget('new_var')"
   ]
  },
  {
   "cell_type": "code",
   "execution_count": 4,
   "metadata": {
    "collapsed": true
   },
   "outputs": [],
   "source": [
    "sas.symput('nuther_var', 'Hi there')"
   ]
  },
  {
   "cell_type": "code",
   "execution_count": 5,
   "metadata": {
    "collapsed": false
   },
   "outputs": [
    {
     "data": {
      "text/plain": [
       "'Hi there'"
      ]
     },
     "execution_count": 5,
     "metadata": {},
     "output_type": "execute_result"
    }
   ],
   "source": [
    "sas.symget('nuther_var')"
   ]
  },
  {
   "cell_type": "code",
   "execution_count": 6,
   "metadata": {
    "collapsed": true
   },
   "outputs": [],
   "source": [
    "py_var = sas.symget('nuther_var')"
   ]
  },
  {
   "cell_type": "code",
   "execution_count": 7,
   "metadata": {
    "collapsed": false
   },
   "outputs": [
    {
     "name": "stdout",
     "output_type": "stream",
     "text": [
      "Hi there\n"
     ]
    }
   ],
   "source": [
    "print(py_var)"
   ]
  },
  {
   "cell_type": "code",
   "execution_count": 8,
   "metadata": {
    "collapsed": false
   },
   "outputs": [
    {
     "name": "stdout",
     "output_type": "stream",
     "text": [
      "Hi there y'all\n"
     ]
    }
   ],
   "source": [
    "sas.symput('from_py_var', py_var+\" y'all\")\n",
    "print(sas.symget('from_py_var'))"
   ]
  },
  {
   "cell_type": "code",
   "execution_count": 9,
   "metadata": {
    "collapsed": true
   },
   "outputs": [],
   "source": [
    "ll = sas.submit('''\n",
    "%let what_happened=it worked!;\n",
    "\n",
    "data a; x=symget('from_py_var'); y=symget('new_var');run;\n",
    "''')"
   ]
  },
  {
   "cell_type": "code",
   "execution_count": 10,
   "metadata": {
    "collapsed": false
   },
   "outputs": [
    {
     "name": "stdout",
     "output_type": "stream",
     "text": [
      "\n",
      "                                                           The SAS System                      12:38 Wednesday, October 10, 2018   1\n",
      "\n",
      "                                                    Obs          x           y\n",
      "\n",
      "                                                     1     Hi there y'all    52\n",
      "\n"
     ]
    }
   ],
   "source": [
    "data_a = sas.sasdata('a', results='text')\n",
    "data_a.head()"
   ]
  },
  {
   "cell_type": "code",
   "execution_count": 11,
   "metadata": {
    "collapsed": false
   },
   "outputs": [
    {
     "name": "stdout",
     "output_type": "stream",
     "text": [
      "it worked!\n"
     ]
    }
   ],
   "source": [
    "print(sas.symget('what_happened'))\n"
   ]
  },
  {
   "cell_type": "code",
   "execution_count": 12,
   "metadata": {
    "collapsed": false,
    "scrolled": true
   },
   "outputs": [
    {
     "name": "stdout",
     "output_type": "stream",
     "text": [
      "\f",
      "1                                                          The SAS System                          12:38 Wednesday, October 10, 2018\n",
      "\n",
      "NOTE: Copyright (c) 2016 by SAS Institute Inc., Cary, NC, USA. \n",
      "NOTE: SAS (r) Proprietary Software 9.4 (TS1M5) \n",
      "      Licensed to Microsoft Windows for x64 All Compatible Non-Plann, Site 70068130.\n",
      "NOTE: This session is executing on the X64_10PRO  platform.\n",
      "\n",
      "\n",
      "\n",
      "NOTE: Updated analytical products:\n",
      "      \n",
      "      SAS/STAT 14.3\n",
      "      SAS/ETS 14.3\n",
      "      SAS/OR 14.3\n",
      "      SAS/QC 14.3\n",
      "\n",
      "NOTE: Additional host information:\n",
      "\n",
      " X64_10PRO WIN 10.0.16299  Workstation\n",
      "\n",
      "NOTE: SAS Initialization used (Total process time):\n",
      "      real time           0.00 seconds\n",
      "      cpu time            0.01 seconds\n",
      "      \n",
      "1          ;*';*\";*/;\n",
      "2          options svgtitle='svgtitle'; options validvarname=any pagesize=max nosyntaxcheck; ods graphics on;\n",
      "3          \n",
      "4          ;*';*\";*/;\n",
      "5          %put E3969440A681A2408885998500000001;\n",
      "E3969440A681A2408885998500000001\n",
      "6          \n",
      "\f",
      "2                                                          The SAS System                          12:38 Wednesday, October 10, 2018\n",
      "\n",
      "7          ods listing close;ods html5 (id=saspy_internal) file=_tomods1 options(bitmap_mode='inline') device=svg style=HTMLBlue;\n",
      "7        ! ods graphics on / outputfmt=png;\n",
      "NOTE: Writing HTML5(SASPY_INTERNAL) Body file: _TOMODS1\n",
      "8          ;*';*\";*/;\n",
      "9          %put WORKpath=%sysfunc(pathname(work));\n",
      "WORKpath=C:\\Users\\sastpw\\AppData\\Local\\Temp\\SAS Temporary Files\\_TD21580_d10a626_\\Prc2\n",
      "10         \n",
      "11         ;*';*\";*/;ods html5 (id=saspy_internal) close;ods listing;\n",
      "12         \n",
      "13         %put E3969440A681A2408885998500000002;\n",
      "E3969440A681A2408885998500000002\n",
      "14         \n",
      "\f",
      "3                                                          The SAS System                          12:38 Wednesday, October 10, 2018\n",
      "\n",
      "15         ods listing close;ods html5 (id=saspy_internal) file=_tomods1 options(bitmap_mode='inline') device=svg style=HTMLBlue;\n",
      "15       ! ods graphics on / outputfmt=png;\n",
      "NOTE: Writing HTML5(SASPY_INTERNAL) Body file: _TOMODS1\n",
      "16         ;*';*\";*/;\n",
      "17         %put SYSV=&sysvlong4;\n",
      "SYSV=9.04.01M5P09132017\n",
      "18         \n",
      "19         ;*';*\";*/;ods html5 (id=saspy_internal) close;ods listing;\n",
      "20         \n",
      "21         %put E3969440A681A2408885998500000003;\n",
      "E3969440A681A2408885998500000003\n",
      "22         \n",
      "\f",
      "4                                                          The SAS System                          12:38 Wednesday, October 10, 2018\n",
      "\n",
      "23         ods listing close;ods html5 (id=saspy_internal) file=_tomods1 options(bitmap_mode='inline') device=svg style=HTMLBlue;\n",
      "23       ! ods graphics on / outputfmt=png;\n",
      "NOTE: Writing HTML5(SASPY_INTERNAL) Body file: _TOMODS1\n",
      "24         ;*';*\";*/;\n",
      "25         proc options option=encoding;run;\n",
      "\n",
      "    SAS (r) Proprietary Software Release 9.4  TS1M5\n",
      "\n",
      " ENCODING=WLATIN1  Specifies the default character-set encoding for the SAS session.\n",
      "NOTE: PROCEDURE OPTIONS used (Total process time):\n",
      "      real time           0.00 seconds\n",
      "      cpu time            0.00 seconds\n",
      "      \n",
      "\n",
      "26         \n",
      "27         ;*';*\";*/;ods html5 (id=saspy_internal) close;ods listing;\n",
      "28         \n",
      "29         %put E3969440A681A2408885998500000004;\n",
      "E3969440A681A2408885998500000004\n",
      "30         \n",
      "\f",
      "5                                                          The SAS System                          12:38 Wednesday, October 10, 2018\n",
      "\n",
      "31         ods listing close;ods html5 (id=saspy_internal) file=_tomods1 options(bitmap_mode='inline') device=svg style=HTMLBlue;\n",
      "31       ! ods graphics on / outputfmt=png;\n",
      "NOTE: Writing HTML5(SASPY_INTERNAL) Body file: _TOMODS1\n",
      "32         ;*';*\";*/;\n",
      "33         %let new_var=%NRBQUOTE(52);\n",
      "34         \n",
      "35         \n",
      "36         ;*';*\";*/;ods html5 (id=saspy_internal) close;ods listing;\n",
      "37         \n",
      "38         %put E3969440A681A2408885998500000005;\n",
      "E3969440A681A2408885998500000005\n",
      "39         \n",
      "\f",
      "6                                                          The SAS System                          12:38 Wednesday, October 10, 2018\n",
      "\n",
      "40         ods listing close;ods html5 (id=saspy_internal) file=_tomods1 options(bitmap_mode='inline') device=svg style=HTMLBlue;\n",
      "40       ! ods graphics on / outputfmt=png;\n",
      "NOTE: Writing HTML5(SASPY_INTERNAL) Body file: _TOMODS1\n",
      "41         ;*';*\";*/;\n",
      "42         %put new_var=&new_var;\n",
      "new_var=52\n",
      "43         \n",
      "44         \n",
      "45         ;*';*\";*/;ods html5 (id=saspy_internal) close;ods listing;\n",
      "46         \n",
      "47         %put E3969440A681A2408885998500000006;\n",
      "E3969440A681A2408885998500000006\n",
      "48         \n",
      "\f",
      "7                                                          The SAS System                          12:38 Wednesday, October 10, 2018\n",
      "\n",
      "49         ods listing close;ods html5 (id=saspy_internal) file=_tomods1 options(bitmap_mode='inline') device=svg style=HTMLBlue;\n",
      "49       ! ods graphics on / outputfmt=png;\n",
      "NOTE: Writing HTML5(SASPY_INTERNAL) Body file: _TOMODS1\n",
      "50         ;*';*\";*/;\n",
      "51         %let nuther_var=%NRBQUOTE(Hi there);\n",
      "52         \n",
      "53         \n",
      "54         ;*';*\";*/;ods html5 (id=saspy_internal) close;ods listing;\n",
      "55         \n",
      "56         %put E3969440A681A2408885998500000007;\n",
      "E3969440A681A2408885998500000007\n",
      "57         \n",
      "\f",
      "8                                                          The SAS System                          12:38 Wednesday, October 10, 2018\n",
      "\n",
      "58         ods listing close;ods html5 (id=saspy_internal) file=_tomods1 options(bitmap_mode='inline') device=svg style=HTMLBlue;\n",
      "58       ! ods graphics on / outputfmt=png;\n",
      "NOTE: Writing HTML5(SASPY_INTERNAL) Body file: _TOMODS1\n",
      "59         ;*';*\";*/;\n",
      "60         %put nuther_var=&nuther_var;\n",
      "nuther_var=Hi there\n",
      "61         \n",
      "62         \n",
      "63         ;*';*\";*/;ods html5 (id=saspy_internal) close;ods listing;\n",
      "64         \n",
      "65         %put E3969440A681A2408885998500000008;\n",
      "E3969440A681A2408885998500000008\n",
      "66         \n",
      "\f",
      "9                                                          The SAS System                          12:38 Wednesday, October 10, 2018\n",
      "\n",
      "67         ods listing close;ods html5 (id=saspy_internal) file=_tomods1 options(bitmap_mode='inline') device=svg style=HTMLBlue;\n",
      "67       ! ods graphics on / outputfmt=png;\n",
      "NOTE: Writing HTML5(SASPY_INTERNAL) Body file: _TOMODS1\n",
      "68         ;*';*\";*/;\n",
      "69         %put nuther_var=&nuther_var;\n",
      "nuther_var=Hi there\n",
      "70         \n",
      "71         \n",
      "72         ;*';*\";*/;ods html5 (id=saspy_internal) close;ods listing;\n",
      "73         \n",
      "74         %put E3969440A681A2408885998500000009;\n",
      "E3969440A681A2408885998500000009\n",
      "75         \n",
      "\f",
      "10                                                         The SAS System                          12:38 Wednesday, October 10, 2018\n",
      "\n",
      "76         ods listing close;ods html5 (id=saspy_internal) file=_tomods1 options(bitmap_mode='inline') device=svg style=HTMLBlue;\n",
      "76       ! ods graphics on / outputfmt=png;\n",
      "NOTE: Writing HTML5(SASPY_INTERNAL) Body file: _TOMODS1\n",
      "77         ;*';*\";*/;\n",
      "78         %let from_py_var=%NRBQUOTE(Hi there y'all);\n",
      "79         \n",
      "80         \n",
      "81         ;*';*\";*/;ods html5 (id=saspy_internal) close;ods listing;\n",
      "82         \n",
      "83         %put E3969440A681A2408885998500000010;\n",
      "E3969440A681A2408885998500000010\n",
      "84         \n",
      "\f",
      "11                                                         The SAS System                          12:38 Wednesday, October 10, 2018\n",
      "\n",
      "85         ods listing close;ods html5 (id=saspy_internal) file=_tomods1 options(bitmap_mode='inline') device=svg style=HTMLBlue;\n",
      "85       ! ods graphics on / outputfmt=png;\n",
      "NOTE: Writing HTML5(SASPY_INTERNAL) Body file: _TOMODS1\n",
      "86         ;*';*\";*/;\n",
      "87         %put from_py_var=&from_py_var;\n",
      "from_py_var=Hi there y'all\n",
      "88         \n",
      "89         \n",
      "90         ;*';*\";*/;ods html5 (id=saspy_internal) close;ods listing;\n",
      "91         \n",
      "92         %put E3969440A681A2408885998500000011;\n",
      "E3969440A681A2408885998500000011\n",
      "93         \n",
      "\f",
      "12                                                         The SAS System                          12:38 Wednesday, October 10, 2018\n",
      "\n",
      "94         ods listing close;ods html5 (id=saspy_internal) file=_tomods1 options(bitmap_mode='inline') device=svg style=HTMLBlue;\n",
      "94       ! ods graphics on / outputfmt=png;\n",
      "NOTE: Writing HTML5(SASPY_INTERNAL) Body file: _TOMODS1\n",
      "95         ;*';*\";*/;\n",
      "96         \n",
      "97         %let what_happened=it worked!;\n",
      "98         \n",
      "99         data a; x=symget('from_py_var'); y=symget('new_var');run;\n",
      "\n",
      "NOTE: The data set WORK.A has 1 observations and 2 variables.\n",
      "NOTE: DATA statement used (Total process time):\n",
      "      real time           0.01 seconds\n",
      "      cpu time            0.00 seconds\n",
      "      \n",
      "\n",
      "100        \n",
      "101        \n",
      "102        ;*';*\";*/;ods html5 (id=saspy_internal) close;ods listing;\n",
      "103        \n",
      "104        %put E3969440A681A2408885998500000012;\n",
      "E3969440A681A2408885998500000012\n",
      "105        \n",
      "\f",
      "13                                                         The SAS System                          12:38 Wednesday, October 10, 2018\n",
      "\n",
      "106        ;*';*\";*/;\n",
      "107        data _null_; e = exist('user.a');\n",
      "108        v = exist('user.a', 'VIEW');\n",
      "109         if e or v then e = 1;\n",
      "110        te='TABLE_EXISTS='; put te e;run;\n",
      "\n",
      "TABLE_EXISTS= 0\n",
      "NOTE: DATA statement used (Total process time):\n",
      "      real time           0.00 seconds\n",
      "      cpu time            0.00 seconds\n",
      "      \n",
      "\n",
      "111        \n",
      "112        \n",
      "113        ;*';*\";*/;\n",
      "114        %put E3969440A681A2408885998500000013;\n",
      "E3969440A681A2408885998500000013\n",
      "115        \n",
      "\f",
      "14                                                         The SAS System                          12:38 Wednesday, October 10, 2018\n",
      "\n",
      "116        ;*';*\";*/;\n",
      "117        data _null_; e = exist('WORK.a');\n",
      "118        v = exist('WORK.a', 'VIEW');\n",
      "119         if e or v then e = 1;\n",
      "120        te='TABLE_EXISTS='; put te e;run;\n",
      "\n",
      "TABLE_EXISTS= 1\n",
      "NOTE: DATA statement used (Total process time):\n",
      "      real time           0.00 seconds\n",
      "      cpu time            0.00 seconds\n",
      "      \n",
      "\n",
      "121        \n",
      "122        \n",
      "123        ;*';*\";*/;\n",
      "124        %put E3969440A681A2408885998500000014;\n",
      "E3969440A681A2408885998500000014\n",
      "125        \n",
      "\f",
      "15                                                         The SAS System                          12:38 Wednesday, October 10, 2018\n",
      "\n",
      "126        ;*';*\";*/;\n",
      "127        data _null_; e = exist('WORK.a');\n",
      "128        v = exist('WORK.a', 'VIEW');\n",
      "129         if e or v then e = 1;\n",
      "130        te='TABLE_EXISTS='; put te e;run;\n",
      "\n",
      "TABLE_EXISTS= 1\n",
      "NOTE: DATA statement used (Total process time):\n",
      "      real time           0.00 seconds\n",
      "      cpu time            0.00 seconds\n",
      "      \n",
      "\n",
      "131        \n",
      "132        \n",
      "133        ;*';*\";*/;\n",
      "134        %put E3969440A681A2408885998500000015;\n",
      "E3969440A681A2408885998500000015\n",
      "135        \n",
      "\f",
      "16                                                         The SAS System                          12:38 Wednesday, October 10, 2018\n",
      "\n",
      "136        ;*';*\";*/;\n",
      "137        proc print data=WORK.a(obs=5 );run;\n",
      "\n",
      "NOTE: There were 1 observations read from the data set WORK.A.\n",
      "NOTE: The PROCEDURE PRINT printed page 1.\n",
      "NOTE: PROCEDURE PRINT used (Total process time):\n",
      "      real time           0.00 seconds\n",
      "      cpu time            0.01 seconds\n",
      "      \n",
      "\n",
      "138        \n",
      "139        ;*';*\";*/;\n",
      "140        %put E3969440A681A2408885998500000016;\n",
      "E3969440A681A2408885998500000016\n",
      "141        \n",
      "\f",
      "17                                                         The SAS System                          12:38 Wednesday, October 10, 2018\n",
      "\n",
      "142        ods listing close;ods html5 (id=saspy_internal) file=_tomods1 options(bitmap_mode='inline') device=svg style=HTMLBlue;\n",
      "142      ! ods graphics on / outputfmt=png;\n",
      "NOTE: Writing HTML5(SASPY_INTERNAL) Body file: _TOMODS1\n",
      "143        ;*';*\";*/;\n",
      "144        %put what_happened=&what_happened;\n",
      "what_happened=it worked!\n",
      "145        \n",
      "146        \n",
      "147        ;*';*\";*/;ods html5 (id=saspy_internal) close;ods listing;\n",
      "148        \n",
      "149        %put E3969440A681A2408885998500000017;\n",
      "E3969440A681A2408885998500000017\n",
      "150        \n",
      "\n"
     ]
    }
   ],
   "source": [
    "print(sas.saslog())"
   ]
  },
  {
   "cell_type": "code",
   "execution_count": null,
   "metadata": {
    "collapsed": true
   },
   "outputs": [],
   "source": []
  }
 ],
 "metadata": {
  "kernelspec": {
   "display_name": "Python 3",
   "language": "python",
   "name": "python3"
  },
  "language_info": {
   "codemirror_mode": {
    "name": "ipython",
    "version": 3
   },
   "file_extension": ".py",
   "mimetype": "text/x-python",
   "name": "python",
   "nbconvert_exporter": "python",
   "pygments_lexer": "ipython3",
   "version": "3.6.0"
  }
 },
 "nbformat": 4,
 "nbformat_minor": 2
}
